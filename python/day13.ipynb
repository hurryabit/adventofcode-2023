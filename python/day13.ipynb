{
 "cells": [
  {
   "cell_type": "code",
   "execution_count": 3,
   "metadata": {},
   "outputs": [],
   "source": [
    "BAD = [\n",
    "    \"#...#..##.#..##..\",\n",
    "    \"..###.#.##..#..##\",\n",
    "    \".....#...#####.##\",\n",
    "    \".....#...#####.##\",\n",
    "    \"..###.#.##..#..##\",\n",
    "    \"#...#..##.#..##..\",\n",
    "    \".##.#.###.###..##\",\n",
    "    \".###.#.#..#.#.#.#\",\n",
    "    \"##...#.#.....#.#.\",\n",
    "    \".#...#..##.##..#.\",\n",
    "    \"######.#..#..##.#\",\n",
    "    \"#######.##.....#.\",\n",
    "    \"####.##.##.....#.\",\n",
    "]"
   ]
  },
  {
   "cell_type": "code",
   "execution_count": 2,
   "metadata": {},
   "outputs": [],
   "source": [
    "def flipped_at(pattern: list[str], i: int, j: int) -> list[str]:\n",
    "    row = pattern[i]\n",
    "    flipped_row = row[:j] + (\"#\" if row[j] == \".\" else \".\") + row[j + 1 :]\n",
    "    return pattern[:i] + [flipped_row] + pattern[i + 1 :]\n",
    "\n",
    "\n",
    "def analyse_vertically(pattern: list[str]) -> int:\n",
    "    for i in range(1, len(pattern)):\n",
    "        if all(\n",
    "            pattern[i - 1 - j] == pattern[i + j]\n",
    "            for j in range(min(i, len(pattern) - i))\n",
    "        ):\n",
    "            return i\n",
    "    return -1\n",
    "\n",
    "\n",
    "def analyse_both(pattern: list[str]) -> int:\n",
    "    res = analyse_vertically(pattern)\n",
    "    if res != -1:\n",
    "        return 100 * res\n",
    "    else:\n",
    "        return analyse_vertically([\"\".join(row) for row in zip(*pattern)])\n",
    "\n",
    "\n",
    "def analyse(pattern: list[str]) -> int:\n",
    "    old = analyse_both(pattern)\n",
    "    for i in range(len(pattern)):\n",
    "        for j in range(len(pattern[i])):\n",
    "            flipped_pattern = flipped_at(pattern, i, j)\n",
    "            res = analyse_both(flipped_pattern)\n",
    "            if res != -1 and res != old:\n",
    "                print(f\"flipped at {i},{j}\")\n",
    "                return res\n",
    "    raise ValueError(f\"no solution found for {pattern}\")"
   ]
  },
  {
   "cell_type": "code",
   "execution_count": 6,
   "metadata": {},
   "outputs": [
    {
     "data": {
      "text/plain": [
       "300"
      ]
     },
     "execution_count": 6,
     "metadata": {},
     "output_type": "execute_result"
    }
   ],
   "source": [
    "analyse_both(flipped_at(BAD, 11, 4))"
   ]
  },
  {
   "cell_type": "code",
   "execution_count": 7,
   "metadata": {},
   "outputs": [
    {
     "data": {
      "text/plain": [
       "300"
      ]
     },
     "execution_count": 7,
     "metadata": {},
     "output_type": "execute_result"
    }
   ],
   "source": [
    "analyse_both(BAD)"
   ]
  },
  {
   "cell_type": "code",
   "execution_count": null,
   "metadata": {},
   "outputs": [],
   "source": []
  }
 ],
 "metadata": {
  "kernelspec": {
   "display_name": ".venv",
   "language": "python",
   "name": "python3"
  },
  "language_info": {
   "codemirror_mode": {
    "name": "ipython",
    "version": 3
   },
   "file_extension": ".py",
   "mimetype": "text/x-python",
   "name": "python",
   "nbconvert_exporter": "python",
   "pygments_lexer": "ipython3",
   "version": "3.12.0"
  }
 },
 "nbformat": 4,
 "nbformat_minor": 2
}
