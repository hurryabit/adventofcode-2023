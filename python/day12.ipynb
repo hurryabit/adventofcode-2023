{
 "cells": [
  {
   "cell_type": "code",
   "execution_count": 23,
   "metadata": {},
   "outputs": [],
   "source": [
    "def dot_case(s: str, t: tuple[int, ...]) -> int:\n",
    "    return possibilities(s[1:], t)\n",
    "\n",
    "def hash_case(s: str, t: tuple[int, ...]) -> int:\n",
    "    if len(t) == 0:\n",
    "        return 0\n",
    "    k = t[0]\n",
    "    if len(s) < k or any(c not in \"#?\" for c in s[:k]):\n",
    "        return 0\n",
    "    s = s[k:]\n",
    "    if len(s) > 0:\n",
    "        if s[0] not in \".?\":\n",
    "            return 0\n",
    "        s = s[1:]\n",
    "    return possibilities(s, t[1:])\n",
    "\n",
    "def possibilities(s: str, t: tuple[int, ...]) -> int:\n",
    "    if len(s) == 0:\n",
    "        return 1 if len(t) == 0 else 0\n",
    "\n",
    "    match s[0]:\n",
    "        case \".\":\n",
    "            return dot_case(s, t)\n",
    "        case \"#\":\n",
    "            return hash_case(s, t)\n",
    "        case \"?\":\n",
    "            return dot_case(s, t) + hash_case(s, t)\n",
    "        case _:\n",
    "            raise ValueError(f\"Invalid character: {s[0]}\")"
   ]
  },
  {
   "cell_type": "code",
   "execution_count": 25,
   "metadata": {},
   "outputs": [
    {
     "data": {
      "text/plain": [
       "10"
      ]
     },
     "execution_count": 25,
     "metadata": {},
     "output_type": "execute_result"
    }
   ],
   "source": [
    "possibilities(\"?###????????\", (3, 2, 1))"
   ]
  },
  {
   "cell_type": "code",
   "execution_count": null,
   "metadata": {},
   "outputs": [],
   "source": []
  }
 ],
 "metadata": {
  "kernelspec": {
   "display_name": ".venv",
   "language": "python",
   "name": "python3"
  },
  "language_info": {
   "codemirror_mode": {
    "name": "ipython",
    "version": 3
   },
   "file_extension": ".py",
   "mimetype": "text/x-python",
   "name": "python",
   "nbconvert_exporter": "python",
   "pygments_lexer": "ipython3",
   "version": "3.12.0"
  }
 },
 "nbformat": 4,
 "nbformat_minor": 2
}
